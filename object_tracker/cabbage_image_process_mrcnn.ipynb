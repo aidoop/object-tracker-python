{
 "cells": [
  {
   "cell_type": "markdown",
   "metadata": {},
   "source": [
    "# 배추 객체 추출 관련 이미지 프로세싱 정리\n",
    "\n",
    "## Mask-RCNN을 활용한 배추 객체 영역 추출"
   ]
  },
  {
   "cell_type": "code",
   "execution_count": 1,
   "metadata": {},
   "outputs": [
    {
     "ename": "AttributeError",
     "evalue": "'NoneType' object has no attribute 'shape'",
     "output_type": "error",
     "traceback": [
      "\u001b[0;31m---------------------------------------------------------------------------\u001b[0m",
      "\u001b[0;31mAttributeError\u001b[0m                            Traceback (most recent call last)",
      "\u001b[0;32m<ipython-input-1-cbd6c16c2f39>\u001b[0m in \u001b[0;36m<module>\u001b[0;34m\u001b[0m\n\u001b[1;32m     24\u001b[0m \u001b[0;31m# get width & height of input image\u001b[0m\u001b[0;34m\u001b[0m\u001b[0;34m\u001b[0m\u001b[0;34m\u001b[0m\u001b[0m\n\u001b[1;32m     25\u001b[0m \u001b[0minput_image\u001b[0m \u001b[0;34m=\u001b[0m \u001b[0mcv2\u001b[0m\u001b[0;34m.\u001b[0m\u001b[0mimread\u001b[0m\u001b[0;34m(\u001b[0m\u001b[0mINPUT_IMAGE_PATH\u001b[0m\u001b[0;34m,\u001b[0m \u001b[0mcv2\u001b[0m\u001b[0;34m.\u001b[0m\u001b[0mIMREAD_UNCHANGED\u001b[0m\u001b[0;34m)\u001b[0m\u001b[0;34m\u001b[0m\u001b[0;34m\u001b[0m\u001b[0m\n\u001b[0;32m---> 26\u001b[0;31m \u001b[0mheight\u001b[0m \u001b[0;34m=\u001b[0m \u001b[0minput_image\u001b[0m\u001b[0;34m.\u001b[0m\u001b[0mshape\u001b[0m\u001b[0;34m[\u001b[0m\u001b[0;36m0\u001b[0m\u001b[0;34m]\u001b[0m\u001b[0;34m\u001b[0m\u001b[0;34m\u001b[0m\u001b[0m\n\u001b[0m\u001b[1;32m     27\u001b[0m \u001b[0mwidth\u001b[0m \u001b[0;34m=\u001b[0m \u001b[0minput_image\u001b[0m\u001b[0;34m.\u001b[0m\u001b[0mshape\u001b[0m\u001b[0;34m[\u001b[0m\u001b[0;36m1\u001b[0m\u001b[0;34m]\u001b[0m\u001b[0;34m\u001b[0m\u001b[0;34m\u001b[0m\u001b[0m\n\u001b[1;32m     28\u001b[0m \u001b[0mprint\u001b[0m\u001b[0;34m(\u001b[0m\u001b[0;34mf\"input image size: {width} x {height}\"\u001b[0m\u001b[0;34m)\u001b[0m\u001b[0;34m\u001b[0m\u001b[0;34m\u001b[0m\u001b[0m\n",
      "\u001b[0;31mAttributeError\u001b[0m: 'NoneType' object has no attribute 'shape'"
     ]
    }
   ],
   "source": [
    "import os\n",
    "import sys\n",
    "import json\n",
    "import datetime\n",
    "import numpy as np\n",
    "import skimage.draw\n",
    "import time\n",
    "import cv2\n",
    "import cv2.aruco as aruco\n",
    "from matplotlib import pyplot as plt\n",
    "\n",
    "from pyaidoop.models.mask_rcnn import model as modellib, utils\n",
    "from pyaidoop.models.mask_rcnn.config import Config\n",
    "from pyaidoop.models.mask_rcnn.inference import MaskRcnnDetect\n",
    "\n",
    "\n",
    "COCO_WEIGHTS_PATH = \"/home/jinwon/Documents/github/factory/packages/aidoop-r/object-tracker-python/temp/mask_rcnn_object-train_0046.h5\"\n",
    "\n",
    "DEFAULT_LOGS_DIR = \"/home/jinwon/Documents/github/factory/packages/aidoop-r/object-tracker-python/temp/logs/\"\n",
    "\n",
    "INPUT_IMAGE_PATH = \"/home/jinwon/Documents/github/factory/packages/aidoop-r/object-tracker-python/temp/val/89.jpg\"\n",
    "\n",
    "\n",
    "# get width & height of input image\n",
    "input_image = cv2.imread(INPUT_IMAGE_PATH, cv2.IMREAD_UNCHANGED)\n",
    "height = input_image.shape[0]\n",
    "width = input_image.shape[1]\n",
    "print(f\"input image size: {width} x {height}\")\n",
    "\n",
    "\n",
    "mrdetect = MaskRcnnDetect(COCO_WEIGHTS_PATH, DEFAULT_LOGS_DIR)\n",
    "\n",
    "mask_list = mrdetect.detect_object_by_path(INPUT_IMAGE_PATH)\n",
    "\n",
    "mask_image = mrdetect.get_mask_image(mask_list, width, height)\n",
    "\n",
    "plt.imshow(input_image)\n",
    "plt.title('Input Image')\n",
    "plt.show()\n",
    "\n",
    "plt.imshow(mask_image)\n",
    "plt.title('Mask Image')\n",
    "plt.show()\n",
    "\n",
    "\n",
    "\n",
    "\n"
   ]
  },
  {
   "cell_type": "code",
   "execution_count": 10,
   "metadata": {},
   "outputs": [
    {
     "name": "stdout",
     "output_type": "stream",
     "text": [
      "(338, 225)\n"
     ]
    }
   ],
   "source": [
    "print(mask_image.shape)\n"
   ]
  },
  {
   "cell_type": "markdown",
   "metadata": {},
   "source": [
    "## 추출된 영역 확인"
   ]
  },
  {
   "cell_type": "code",
   "execution_count": 11,
   "metadata": {},
   "outputs": [],
   "source": [
    "import numpy as np\n",
    "import math\n",
    "\n",
    "def get_line_length(x1, y1, x2, y2):\n",
    "    return math.sqrt((x2-x1)**2+(y2-y1)**2)"
   ]
  },
  {
   "cell_type": "code",
   "execution_count": 12,
   "metadata": {},
   "outputs": [
    {
     "name": "stdout",
     "output_type": "stream",
     "text": [
      "threshold result: 0.0\n"
     ]
    },
    {
     "data": {
      "image/png": "[encoded data removed]",
      "text/plain": [
       "<Figure size 432x288 with 1 Axes>"
      ]
     },
     "metadata": {
      "needs_background": "light"
     },
     "output_type": "display_data"
    },
    {
     "name": "stdout",
     "output_type": "stream",
     "text": [
      "(338, 225, 3)\n",
      "((103.8929443359375, 181.43496704101562), (148.57876586914062, 252.4720001220703), 7.305758953094482)\n",
      "coordinate #1: (103.8929443359375, 181.43496704101562)\n",
      "coordinate #2: (148.57876586914062, 252.4720001220703)\n",
      "rotate angle: 7.305758953094482\n"
     ]
    },
    {
     "data": {
      "image/png": "[encoded data removed]",
      "text/plain": [
       "<Figure size 432x288 with 1 Axes>"
      ]
     },
     "metadata": {
      "needs_background": "light"
     },
     "output_type": "display_data"
    }
   ],
   "source": [
    "ret, thr_image = cv2.threshold(mask_image, 127, 255, cv2.THRESH_OTSU)\n",
    "print(f\"threshold result: {ret}\")\n",
    "\n",
    "plt.imshow(thr_image)\n",
    "plt.title('Threshold Image')\n",
    "plt.show()\n",
    "\n",
    "\n",
    "contours,_ = cv2.findContours(thr_image, cv2.RETR_TREE, cv2.CHAIN_APPROX_SIMPLE)\n",
    "mask_image_rgb = cv2.cvtColor(mask_image, cv2.COLOR_GRAY2RGB)\n",
    "print(mask_image_rgb.shape)\n",
    "\n",
    "mask_image_copy = mask_image_rgb.copy()\n",
    "for countour in contours:\n",
    "    (x,y,w,h) = cv2.boundingRect(countour)\n",
    "    cv2.rectangle(mask_image_copy, (x, y), (x + w, y + h), (0, 255, 255), 2)\n",
    "\n",
    "    rect = cv2.minAreaRect(countour)\n",
    "    print(rect)\n",
    "    print('coordinate #1:', rect[0])\n",
    "    print('coordinate #2:', rect[1])\n",
    "    print('rotate angle:', rect[2])\n",
    "\n",
    "    # get the rectangle coordinates of RotateRect\n",
    "    box = cv2.boxPoints(rect)\n",
    "\n",
    "    # to integer\n",
    "    box = np.int0(box)\n",
    "\n",
    "    # draw box\n",
    "    cv2.drawContours(mask_image_copy,[box],0,(0,0,255),2)\n",
    "\n",
    "    # draw center line\n",
    "    xx1 = np.int0((box[0][0] + box[1][0])/2)\n",
    "    yy1 = np.int0((box[0][1] + box[1][1])/2)\n",
    "    xx2 = np.int0((box[2][0] + box[3][0])/2)\n",
    "    yy2 = np.int0((box[2][1] + box[3][1])/2)\n",
    "\n",
    "    len1 = get_line_length(xx1, yy1, xx2, yy2)\n",
    "\n",
    "    xx3 = np.int0((box[0][0] + box[3][0])/2)\n",
    "    yy3 = np.int0((box[0][1] + box[3][1])/2)\n",
    "    xx4 = np.int0((box[2][0] + box[1][0])/2)\n",
    "    yy4 = np.int0((box[2][1] + box[1][1])/2)  \n",
    "\n",
    "    len2 = get_line_length(xx3, yy3, xx4, yy4)  \n",
    "    \n",
    "    if(len1 >= len2):\n",
    "        color1 = (255, 0, 0)\n",
    "        color2 = (0, 0, 255)\n",
    "    else:\n",
    "        color1 = (0, 0, 255)\n",
    "        color2 = (255, 0, 0)\n",
    "\n",
    "    cv2.line(mask_image_copy, (xx1, yy1), (xx2, yy2), color1, 2)\n",
    "    cv2.line(mask_image_copy, (xx3, yy3), (xx4, yy4), color2, 2)\n",
    "\n",
    "\n",
    "\n",
    "#cv2.rectangle(mask_image_copy, (x, y), (x + w, y + h), (0, 0, 255), 2)\n",
    "# box = cv2.boxPoints(rect)\n",
    "# box = np.int0(box)\n",
    "# cv2.drawContours(mask_image_copy, [box], 0, (0, 0, 255), 2)\n",
    "\n",
    "#cv2.drawContours(mask_image_copy, contours, -1, (0, 0, 255), 1)\n",
    "plt.imshow(mask_image_copy)\n",
    "plt.title('Countoured Image')\n",
    "plt.show()\n",
    "\n",
    "\n"
   ]
  },
  {
   "cell_type": "code",
   "execution_count": null,
   "metadata": {},
   "outputs": [],
   "source": []
  }
 ],
 "metadata": {
  "interpreter": {
   "hash": "18ab58ccf4166e1a00bb91b4e850a33991b75c1418dfdab4086962899e3e7b11"
  },
  "kernelspec": {
   "display_name": "Python 3.6.9 64-bit ('objtrack2': venv)",
   "name": "python3"
  },
  "language_info": {
   "codemirror_mode": {
    "name": "ipython",
    "version": 3
   },
   "file_extension": ".py",
   "mimetype": "text/x-python",
   "name": "python",
   "nbconvert_exporter": "python",
   "pygments_lexer": "ipython3",
   "version": "3.6.9"
  },
  "metadata": {
   "interpreter": {
    "hash": "31f2aee4e71d21fbe5cf8b01ff0e069b9275f58929596ceb00d14d90e3e16cd6"
   }
  },
  "orig_nbformat": 2
 },
 "nbformat": 4,
 "nbformat_minor": 2
}